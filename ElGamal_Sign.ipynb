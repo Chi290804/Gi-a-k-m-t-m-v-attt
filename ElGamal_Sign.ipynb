{
 "cells": [
  {
   "cell_type": "code",
   "execution_count": 16,
   "metadata": {},
   "outputs": [],
   "source": [
    "import hashlib\n",
    "import random"
   ]
  },
  {
   "cell_type": "code",
   "execution_count": 17,
   "metadata": {},
   "outputs": [],
   "source": [
    "def mod_exp(base, exp, mod):\n",
    "    result = 1\n",
    "    base = base % mod\n",
    "    while exp > 0:\n",
    "        if exp % 2 == 1:\n",
    "            result = (result * base) % mod\n",
    "        exp = exp >> 1\n",
    "        base = (base * base) % mod\n",
    "    return result"
   ]
  },
  {
   "cell_type": "code",
   "execution_count": 18,
   "metadata": {},
   "outputs": [],
   "source": [
    "def mod_inverse(a, m):\n",
    "    return pow(a, -1, m)"
   ]
  },
  {
   "cell_type": "code",
   "execution_count": 19,
   "metadata": {},
   "outputs": [],
   "source": [
    "def gcd(a, b):\n",
    "    while b:\n",
    "        a, b = b, a % b\n",
    "    return a"
   ]
  },
  {
   "cell_type": "code",
   "execution_count": 20,
   "metadata": {},
   "outputs": [],
   "source": [
    "def generate_elgamal_keys(p, g):\n",
    "    # x = random.randint(2, p - 2)\n",
    "    x = 296910705850334802942252230016917197119761411529502398856920411716398776665995117253388109347257855432665575504925621092927500886757763228288976190435218181204860246792441747727687404284118803628280292427401702743706695331998886442243964393075281831948230289332261342065707450523522625876551455787909702212448\n",
    "    y = mod_exp(g, x, p)\n",
    "    return (p, g, y), x"
   ]
  },
  {
   "cell_type": "code",
   "execution_count": 21,
   "metadata": {},
   "outputs": [],
   "source": [
    "def encrypt_elgamal(message, public_key):\n",
    "    p, g, y = public_key\n",
    "    #Khóa phiên k được random mỗi lần chạy vậy nên bản mã sẽ khác nhau\n",
    "    #Trong ví dụ trong file word đính kèm, khóa phiên k có giá trị\n",
    "    \n",
    "    k = 231829683515004285894248732404818838505780640291715123088889449666416885328634740604061367009552293107004845199650478342025302430924465040754743126387968600172838303296241667234672358030056988574445077392877459316860987264706489823044426733783629485383174221974246710107609888722370369714382438004845162844505\n",
    "    \n",
    "    #Hàm tính k ngẫu nhiên\n",
    "    # k = random.randint(2, p - 2)\n",
    "    # while gcd(k, p - 1) != 1:\n",
    "    #     k = random.randint(2, p - 2)\n",
    "    #Kết thúc hàm tính k ngẫu nhiên\n",
    "    print(f\"k: {k}\")\n",
    "    s = mod_exp(y, k, p)\n",
    "    c1 = mod_exp(g, k, p)\n",
    "    message_int = int.from_bytes(message.encode(), 'big')  # Convert message to integer\n",
    "    c2 = (message_int * s) % p\n",
    "    \n",
    "    return c1, c2"
   ]
  },
  {
   "cell_type": "code",
   "execution_count": 22,
   "metadata": {},
   "outputs": [],
   "source": [
    "def decrypt_elgamal(ciphertext, private_key, p):\n",
    "    c1, c2 = ciphertext\n",
    "    x = private_key\n",
    "    \n",
    "    s = mod_exp(c1, x, p)\n",
    "    \n",
    "    s_inverse = pow(s, -1, p)\n",
    "    \n",
    "    message_int = (c2 * s_inverse) % p\n",
    "    \n",
    "    message_bytes = message_int.to_bytes((message_int.bit_length() + 7) // 8, 'big')\n",
    "    return message_bytes.decode()\n"
   ]
  },
  {
   "cell_type": "code",
   "execution_count": 23,
   "metadata": {},
   "outputs": [],
   "source": [
    "def is_prime(n, k=128):\n",
    "    if n == 2 or n == 3:\n",
    "        return True\n",
    "    if n % 2 == 0 or n < 2:\n",
    "        return False\n",
    "    s, d = 0, n - 1\n",
    "    while d % 2 == 0:\n",
    "        s += 1\n",
    "        d //= 2\n",
    "    for _ in range(k):\n",
    "        a = random.randrange(2, n - 1)\n",
    "        x = pow(a, d, n)\n",
    "        if x == 1 or x == n - 1:\n",
    "            continue\n",
    "        for _ in range(s - 1):\n",
    "            x = pow(x, 2, n)\n",
    "            if x == n - 1:\n",
    "                break\n",
    "        else:\n",
    "            return False\n",
    "    return True\n"
   ]
  },
  {
   "cell_type": "code",
   "execution_count": 24,
   "metadata": {},
   "outputs": [],
   "source": [
    "def generate_large_prime(bits=2048):\n",
    "    while True:\n",
    "        p = random.getrandbits(bits)\n",
    "        if is_prime(p):\n",
    "            return p"
   ]
  },
  {
   "cell_type": "code",
   "execution_count": 25,
   "metadata": {},
   "outputs": [],
   "source": [
    "def find_primitive_root(p):\n",
    "    if p == 2:\n",
    "        return 1  \n",
    "\n",
    "    phi = p - 1\n",
    "    prime_factors = find_prime_factors(phi)\n",
    "    \n",
    "    for g in range(2, min(p, 1000)):  \n",
    "        is_primitive = True\n",
    "        for q in prime_factors:\n",
    "            if pow(g, phi // q, p) == 1:\n",
    "                is_primitive = False\n",
    "                break\n",
    "        if is_primitive:\n",
    "            return g  \n",
    "    \n",
    "    return None  "
   ]
  },
  {
   "cell_type": "code",
   "execution_count": 26,
   "metadata": {},
   "outputs": [],
   "source": [
    "def find_prime_factors(n):\n",
    "    factors = set()\n",
    "    while n % 2 == 0:\n",
    "        factors.add(2)\n",
    "        n //= 2\n",
    "    for i in range(3, int(n**0.5) + 1, 2):\n",
    "        while n % i == 0:\n",
    "            factors.add(i)\n",
    "            n //= i\n",
    "    if n > 2:\n",
    "        factors.add(n)\n",
    "    return factors"
   ]
  },
  {
   "cell_type": "code",
   "execution_count": 27,
   "metadata": {},
   "outputs": [],
   "source": [
    "def hash_message(message):\n",
    "    hash_object = hashlib.sha256(message.encode())\n",
    "    return int.from_bytes(hash_object.digest(), 'big')"
   ]
  },
  {
   "cell_type": "code",
   "execution_count": 28,
   "metadata": {},
   "outputs": [],
   "source": [
    "def sign_elgamal(message, private_key, p, g):\n",
    "    x = private_key\n",
    "    H_m = hash_message(message)\n",
    "    \n",
    "    k = random.randint(2, p - 2)\n",
    "    while gcd(k, p - 1) != 1:\n",
    "        k = random.randint(2, p - 2)\n",
    "    \n",
    "    r = mod_exp(g, k, p)\n",
    "    \n",
    "    k_inverse = mod_inverse(k, p - 1)\n",
    "    s = ((H_m - x * r) * k_inverse) % (p - 1)\n",
    "    \n",
    "    return r, s"
   ]
  },
  {
   "cell_type": "code",
   "execution_count": 29,
   "metadata": {},
   "outputs": [],
   "source": [
    "def verify_elgamal_signature(message, signature, public_key):\n",
    "\n",
    "    p, g, y = public_key\n",
    "\n",
    "    r, s = signature\n",
    "\n",
    "    # Bước 1: Băm thông điệp để lấy giá trị băm H_m\n",
    "    H_m = hash_message(message)\n",
    "    print(f\"Bước 1: Giá trị băm của thông điệp H(m) = {H_m}\")\n",
    "\n",
    "    # Bước 2: Tính g^H_m mod p để có vế trái của phương trình\n",
    "    left_side = mod_exp(g, H_m, p)\n",
    "    print(f\"Bước 2: Tính g^H(m) mod p = {left_side}\")\n",
    "\n",
    "    # Bước 3: Tính (y^r * r^s) mod p để có vế phải của phương trình\n",
    "    y_r_mod_p = mod_exp(y, r, p)\n",
    "    r_s_mod_p = mod_exp(r, s, p)\n",
    "    right_side = (y_r_mod_p * r_s_mod_p) % p\n",
    "    print(f\"Bước 3: Tính y^r mod p = {y_r_mod_p}\")\n",
    "    print(f\"Bước 3: Tính r^s mod p = {r_s_mod_p}\")\n",
    "    print(f\"Bước 3: Tính (y^r * r^s) mod p = {right_side}\")\n",
    "\n",
    "    # Bước 4: So sánh vế trái và vế phải\n",
    "    if left_side == right_side:\n",
    "        print(\"Bước 4: Vế trái bằng vế phải. Chữ ký hợp lệ.\")\n",
    "    else:\n",
    "        print(\"Bước 4: Vế trái không bằng vế phải. Chữ ký không hợp lệ.\")\n",
    "\n",
    "    # Kết quả cuối cùng\n",
    "    return left_side == right_side\n"
   ]
  },
  {
   "cell_type": "code",
   "execution_count": 30,
   "metadata": {},
   "outputs": [
    {
     "name": "stdout",
     "output_type": "stream",
     "text": [
      "p: 344590376537974420951053201976517870797868340281010822474899522582054505771199770060111007551597043514444033262162310176556235037673574689699048504636751304765603116125059696959222855931469499847423595491860730347032761601704196496912109094192456362651535855045072467954889065252293306360209806356757850184303\n",
      "g: 13496366429637966183200866655908501844287542699618604731918713325753280286175497136016236614727621674635809206897089783790551319270201625116999741593674645525926986285973782042187324374542581942378861320998458518558357487645631881644112609323183361747147272964789761654258910528521592648905075324958458103809\n",
      "Khóa công khai: (344590376537974420951053201976517870797868340281010822474899522582054505771199770060111007551597043514444033262162310176556235037673574689699048504636751304765603116125059696959222855931469499847423595491860730347032761601704196496912109094192456362651535855045072467954889065252293306360209806356757850184303, 13496366429637966183200866655908501844287542699618604731918713325753280286175497136016236614727621674635809206897089783790551319270201625116999741593674645525926986285973782042187324374542581942378861320998458518558357487645631881644112609323183361747147272964789761654258910528521592648905075324958458103809, 269819838868925824320151804154604606431648928317679217339996052068531721265012458085444215233745589882619385446337384503616374057622798861129043376543331045973401472064360991337837624421010757047958913497289067761147081237358922496436024715199531780159011221856102885178873881001184586294898791941733195821454)\n",
      "Khóa bí mật: 296910705850334802942252230016917197119761411529502398856920411716398776665995117253388109347257855432665575504925621092927500886757763228288976190435218181204860246792441747727687404284118803628280292427401702743706695331998886442243964393075281831948230289332261342065707450523522625876551455787909702212448\n",
      "Chữ ký: (255431366862135022344892407846341982733714895871973487105443909054597542526638885123781785895663707753132526046188699365755518992020678634232377736805768829915392016854576111740371668805794614714932253680049112197132142448008523744558733022588777665462713816747087138723203555937279744388220421685141375373285, 129450986852002965718346604629407541175555918487916244136825133266090020180057453819360277093590169653449317437505770248441036596769784497554895226575151392477244112589084729378962842631609436175927291042192777462460865910108439774387790631258317859524940769686581662946157757801272147282599039898839203679352)\n",
      "Bước 1: Giá trị băm của thông điệp H(m) = 69102855103096169717063382316217382766159305001360740680933653663207352317210\n",
      "Bước 2: Tính g^H(m) mod p = 89412327157400007158194284846110828002982938996667554648020619540986504587624611722402908555170218838310387967913048740707142020040740843639479681397722022050534750065970067219332770583856977366393896173911846412299346871000736390989383196380474936658220003080652538118507139726688803289128881857000594225520\n",
      "Bước 3: Tính y^r mod p = 170209055617275026722237148878543905687363582362141997713804927379277787416512043053932379266193753136523253709523777334337688379100370497442098720946562851165372129978388069286335593494712330010914095149626323433825599346746524696192425364085268792042697116270336382229079860773461219848586919560018915320432\n",
      "Bước 3: Tính r^s mod p = 273998260980912636530763199884776160921980667153423760996381352918894708921698342887208812005327282799482972636700184838843672782936959114983057120355198219499933121828984337941097913136849700547968483146557015682697812114379134805005856980156450427480993830398863716261804925691418298886057229490617432662120\n",
      "Bước 3: Tính (y^r * r^s) mod p = 89412327157400007158194284846110828002982938996667554648020619540986504587624611722402908555170218838310387967913048740707142020040740843639479681397722022050534750065970067219332770583856977366393896173911846412299346871000736390989383196380474936658220003080652538118507139726688803289128881857000594225520\n",
      "Bước 4: Vế trái bằng vế phải. Chữ ký hợp lệ.\n"
     ]
    }
   ],
   "source": [
    "p = 344590376537974420951053201976517870797868340281010822474899522582054505771199770060111007551597043514444033262162310176556235037673574689699048504636751304765603116125059696959222855931469499847423595491860730347032761601704196496912109094192456362651535855045072467954889065252293306360209806356757850184303\n",
    "print(f\"p: {p}\")\n",
    "# g = 2\n",
    "g = 13496366429637966183200866655908501844287542699618604731918713325753280286175497136016236614727621674635809206897089783790551319270201625116999741593674645525926986285973782042187324374542581942378861320998458518558357487645631881644112609323183361747147272964789761654258910528521592648905075324958458103809\n",
    "print(f\"g: {g}\")\n",
    "public_key, private_key = generate_elgamal_keys(p, g)\n",
    "print(f\"Khóa công khai: {public_key}\")\n",
    "print(f\"Khóa bí mật: {private_key}\")\n",
    "message = \"Hoang Kim Chi\"\n",
    "signature = sign_elgamal(message, private_key, p, g)\n",
    "print(f\"Chữ ký: {signature}\")\n",
    "is_valid = verify_elgamal_signature(message, signature, public_key)"
   ]
  }
 ],
 "metadata": {
  "kernelspec": {
   "display_name": "Python 3",
   "language": "python",
   "name": "python3"
  },
  "language_info": {
   "codemirror_mode": {
    "name": "ipython",
    "version": 3
   },
   "file_extension": ".py",
   "mimetype": "text/x-python",
   "name": "python",
   "nbconvert_exporter": "python",
   "pygments_lexer": "ipython3",
   "version": "3.12.7"
  }
 },
 "nbformat": 4,
 "nbformat_minor": 2
}
